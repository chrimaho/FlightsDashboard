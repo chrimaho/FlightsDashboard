{
 "cells": [
  {
   "cell_type": "code",
   "execution_count": 1,
   "source": [
    "# Global Imports ----\r\n",
    "import streamlit as st\r\n",
    "import pandas as pd\r\n",
    "import pydeck as pdk\r\n",
    "from datetime import date, datetime\r\n",
    "import os\r\n",
    "\r\n",
    "# Constants ----\r\n",
    "REPO_NAME = \"FLIGHTSDASHBOARD\"\r\n",
    "\r\n",
    "# Ensure the directory is correct... every time. ---\r\n",
    "for _ in range(5):\r\n",
    "    if not os.path.basename(os.getcwd()).lower() == REPO_NAME.lower():\r\n",
    "        os.chdir(\"..\")\r\n",
    "    else:\r\n",
    "        break\r\n"
   ],
   "outputs": [],
   "metadata": {}
  },
  {
   "cell_type": "code",
   "execution_count": 2,
   "source": [
    "flightsDF = pd.read_csv(\"./data/external/flights-jan-mar-2020.csv\")\r\n",
    "flightsDF['firstseen'] = pd.to_datetime(flightsDF['firstseen']).dt.strftime('%Y-%m-%d')\r\n",
    "\r\n",
    "covidDF = pd.read_csv(\"./data/external/covid.csv\")\r\n",
    "covidDF['date'] = pd.to_datetime(covidDF['date']).dt.strftime('%Y-%m-%d')\r\n",
    "\r\n",
    "carsDF = pd.read_csv(\"./data/external/car-accidents.csv\")"
   ],
   "outputs": [],
   "metadata": {}
  },
  {
   "cell_type": "code",
   "execution_count": 3,
   "source": [
    "carsDF"
   ],
   "outputs": [
    {
     "output_type": "execute_result",
     "data": {
      "text/plain": [
       "             lng        lat\n",
       "0      -0.198465  51.505538\n",
       "1      -0.178838  51.491836\n",
       "2      -0.205590  51.514910\n",
       "3      -0.208327  51.514952\n",
       "4      -0.206022  51.496572\n",
       "...          ...        ...\n",
       "140051 -3.376671  55.023855\n",
       "140052 -3.242159  55.016316\n",
       "140053 -3.387067  55.163502\n",
       "140054 -3.123385  55.020580\n",
       "140055 -3.348646  55.103676\n",
       "\n",
       "[140056 rows x 2 columns]"
      ],
      "text/html": [
       "<div>\n",
       "<style scoped>\n",
       "    .dataframe tbody tr th:only-of-type {\n",
       "        vertical-align: middle;\n",
       "    }\n",
       "\n",
       "    .dataframe tbody tr th {\n",
       "        vertical-align: top;\n",
       "    }\n",
       "\n",
       "    .dataframe thead th {\n",
       "        text-align: right;\n",
       "    }\n",
       "</style>\n",
       "<table border=\"1\" class=\"dataframe\">\n",
       "  <thead>\n",
       "    <tr style=\"text-align: right;\">\n",
       "      <th></th>\n",
       "      <th>lng</th>\n",
       "      <th>lat</th>\n",
       "    </tr>\n",
       "  </thead>\n",
       "  <tbody>\n",
       "    <tr>\n",
       "      <th>0</th>\n",
       "      <td>-0.198465</td>\n",
       "      <td>51.505538</td>\n",
       "    </tr>\n",
       "    <tr>\n",
       "      <th>1</th>\n",
       "      <td>-0.178838</td>\n",
       "      <td>51.491836</td>\n",
       "    </tr>\n",
       "    <tr>\n",
       "      <th>2</th>\n",
       "      <td>-0.205590</td>\n",
       "      <td>51.514910</td>\n",
       "    </tr>\n",
       "    <tr>\n",
       "      <th>3</th>\n",
       "      <td>-0.208327</td>\n",
       "      <td>51.514952</td>\n",
       "    </tr>\n",
       "    <tr>\n",
       "      <th>4</th>\n",
       "      <td>-0.206022</td>\n",
       "      <td>51.496572</td>\n",
       "    </tr>\n",
       "    <tr>\n",
       "      <th>...</th>\n",
       "      <td>...</td>\n",
       "      <td>...</td>\n",
       "    </tr>\n",
       "    <tr>\n",
       "      <th>140051</th>\n",
       "      <td>-3.376671</td>\n",
       "      <td>55.023855</td>\n",
       "    </tr>\n",
       "    <tr>\n",
       "      <th>140052</th>\n",
       "      <td>-3.242159</td>\n",
       "      <td>55.016316</td>\n",
       "    </tr>\n",
       "    <tr>\n",
       "      <th>140053</th>\n",
       "      <td>-3.387067</td>\n",
       "      <td>55.163502</td>\n",
       "    </tr>\n",
       "    <tr>\n",
       "      <th>140054</th>\n",
       "      <td>-3.123385</td>\n",
       "      <td>55.020580</td>\n",
       "    </tr>\n",
       "    <tr>\n",
       "      <th>140055</th>\n",
       "      <td>-3.348646</td>\n",
       "      <td>55.103676</td>\n",
       "    </tr>\n",
       "  </tbody>\n",
       "</table>\n",
       "<p>140056 rows × 2 columns</p>\n",
       "</div>"
      ]
     },
     "metadata": {},
     "execution_count": 3
    }
   ],
   "metadata": {}
  }
 ],
 "metadata": {
  "orig_nbformat": 4,
  "language_info": {
   "name": "python",
   "version": "3.7.9",
   "mimetype": "text/x-python",
   "codemirror_mode": {
    "name": "ipython",
    "version": 3
   },
   "pygments_lexer": "ipython3",
   "nbconvert_exporter": "python",
   "file_extension": ".py"
  },
  "kernelspec": {
   "name": "python3",
   "display_name": "Python 3.7.9 64-bit ('.venv': pipenv)"
  },
  "interpreter": {
   "hash": "32d4531284f45a9b3bfe12bf2d858e8ebfa3a7b042206654afeec7684f32fd93"
  }
 },
 "nbformat": 4,
 "nbformat_minor": 2
}