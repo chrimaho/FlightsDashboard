{
 "cells": [
  {
   "cell_type": "code",
   "execution_count": 4,
   "source": [
    "# Global Imports ----\r\n",
    "import streamlit as st\r\n",
    "import pandas as pd\r\n",
    "import pydeck as pdk\r\n",
    "from datetime import date, datetime\r\n",
    "import os\r\n",
    "\r\n",
    "# Constants ----\r\n",
    "REPO_NAME = \"FLIGHTSDASHBOARD\"\r\n",
    "\r\n",
    "# Ensure the directory is correct... every time. ---\r\n",
    "for _ in range(5):\r\n",
    "    if not os.path.basename(os.getcwd()).lower() == REPO_NAME.lower():\r\n",
    "        os.chdir(\"..\")\r\n",
    "    else:\r\n",
    "        break\r\n"
   ],
   "outputs": [],
   "metadata": {}
  },
  {
   "cell_type": "code",
   "execution_count": 11,
   "source": [
    "flightsDF = pd.read_csv(\"./data/external/flights-jan-mar-2020.csv\")\r\n",
    "flightsDF['firstseen'] = pd.to_datetime(flightsDF['firstseen']).dt.strftime('%Y-%m-%d')\r\n",
    "\r\n",
    "covidDF = pd.read_csv(\"./data/external/covid.csv\")\r\n",
    "covidDF['date'] = pd.to_datetime(covidDF['date']).dt.strftime('%Y-%m-%d')"
   ],
   "outputs": [],
   "metadata": {}
  },
  {
   "cell_type": "code",
   "execution_count": 14,
   "source": [
    "flightsDF[\"firstseen\"].max()"
   ],
   "outputs": [
    {
     "output_type": "execute_result",
     "data": {
      "text/plain": [
       "'2020-03-31'"
      ]
     },
     "metadata": {},
     "execution_count": 14
    }
   ],
   "metadata": {}
  }
 ],
 "metadata": {
  "orig_nbformat": 4,
  "language_info": {
   "name": "python",
   "version": "3.7.9",
   "mimetype": "text/x-python",
   "codemirror_mode": {
    "name": "ipython",
    "version": 3
   },
   "pygments_lexer": "ipython3",
   "nbconvert_exporter": "python",
   "file_extension": ".py"
  },
  "kernelspec": {
   "name": "python3",
   "display_name": "Python 3.7.9 64-bit ('.venv': pipenv)"
  },
  "interpreter": {
   "hash": "32d4531284f45a9b3bfe12bf2d858e8ebfa3a7b042206654afeec7684f32fd93"
  }
 },
 "nbformat": 4,
 "nbformat_minor": 2
}